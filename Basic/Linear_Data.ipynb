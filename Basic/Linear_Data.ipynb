{
 "cells": [
  {
   "cell_type": "code",
   "execution_count": 1,
   "metadata": {},
   "outputs": [
    {
     "name": "stderr",
     "output_type": "stream",
     "text": [
      "C:\\Users\\angel\\anaconda3\\envs\\mlenv\\lib\\site-packages\\tensorflow\\python\\framework\\dtypes.py:516: FutureWarning: Passing (type, 1) or '1type' as a synonym of type is deprecated; in a future version of numpy, it will be understood as (type, (1,)) / '(1,)type'.\n",
      "  _np_qint8 = np.dtype([(\"qint8\", np.int8, 1)])\n",
      "C:\\Users\\angel\\anaconda3\\envs\\mlenv\\lib\\site-packages\\tensorflow\\python\\framework\\dtypes.py:517: FutureWarning: Passing (type, 1) or '1type' as a synonym of type is deprecated; in a future version of numpy, it will be understood as (type, (1,)) / '(1,)type'.\n",
      "  _np_quint8 = np.dtype([(\"quint8\", np.uint8, 1)])\n",
      "C:\\Users\\angel\\anaconda3\\envs\\mlenv\\lib\\site-packages\\tensorflow\\python\\framework\\dtypes.py:518: FutureWarning: Passing (type, 1) or '1type' as a synonym of type is deprecated; in a future version of numpy, it will be understood as (type, (1,)) / '(1,)type'.\n",
      "  _np_qint16 = np.dtype([(\"qint16\", np.int16, 1)])\n",
      "C:\\Users\\angel\\anaconda3\\envs\\mlenv\\lib\\site-packages\\tensorflow\\python\\framework\\dtypes.py:519: FutureWarning: Passing (type, 1) or '1type' as a synonym of type is deprecated; in a future version of numpy, it will be understood as (type, (1,)) / '(1,)type'.\n",
      "  _np_quint16 = np.dtype([(\"quint16\", np.uint16, 1)])\n",
      "C:\\Users\\angel\\anaconda3\\envs\\mlenv\\lib\\site-packages\\tensorflow\\python\\framework\\dtypes.py:520: FutureWarning: Passing (type, 1) or '1type' as a synonym of type is deprecated; in a future version of numpy, it will be understood as (type, (1,)) / '(1,)type'.\n",
      "  _np_qint32 = np.dtype([(\"qint32\", np.int32, 1)])\n",
      "C:\\Users\\angel\\anaconda3\\envs\\mlenv\\lib\\site-packages\\tensorflow\\python\\framework\\dtypes.py:525: FutureWarning: Passing (type, 1) or '1type' as a synonym of type is deprecated; in a future version of numpy, it will be understood as (type, (1,)) / '(1,)type'.\n",
      "  np_resource = np.dtype([(\"resource\", np.ubyte, 1)])\n",
      "C:\\Users\\angel\\anaconda3\\envs\\mlenv\\lib\\site-packages\\tensorboard\\compat\\tensorflow_stub\\dtypes.py:541: FutureWarning: Passing (type, 1) or '1type' as a synonym of type is deprecated; in a future version of numpy, it will be understood as (type, (1,)) / '(1,)type'.\n",
      "  _np_qint8 = np.dtype([(\"qint8\", np.int8, 1)])\n",
      "C:\\Users\\angel\\anaconda3\\envs\\mlenv\\lib\\site-packages\\tensorboard\\compat\\tensorflow_stub\\dtypes.py:542: FutureWarning: Passing (type, 1) or '1type' as a synonym of type is deprecated; in a future version of numpy, it will be understood as (type, (1,)) / '(1,)type'.\n",
      "  _np_quint8 = np.dtype([(\"quint8\", np.uint8, 1)])\n",
      "C:\\Users\\angel\\anaconda3\\envs\\mlenv\\lib\\site-packages\\tensorboard\\compat\\tensorflow_stub\\dtypes.py:543: FutureWarning: Passing (type, 1) or '1type' as a synonym of type is deprecated; in a future version of numpy, it will be understood as (type, (1,)) / '(1,)type'.\n",
      "  _np_qint16 = np.dtype([(\"qint16\", np.int16, 1)])\n",
      "C:\\Users\\angel\\anaconda3\\envs\\mlenv\\lib\\site-packages\\tensorboard\\compat\\tensorflow_stub\\dtypes.py:544: FutureWarning: Passing (type, 1) or '1type' as a synonym of type is deprecated; in a future version of numpy, it will be understood as (type, (1,)) / '(1,)type'.\n",
      "  _np_quint16 = np.dtype([(\"quint16\", np.uint16, 1)])\n",
      "C:\\Users\\angel\\anaconda3\\envs\\mlenv\\lib\\site-packages\\tensorboard\\compat\\tensorflow_stub\\dtypes.py:545: FutureWarning: Passing (type, 1) or '1type' as a synonym of type is deprecated; in a future version of numpy, it will be understood as (type, (1,)) / '(1,)type'.\n",
      "  _np_qint32 = np.dtype([(\"qint32\", np.int32, 1)])\n",
      "C:\\Users\\angel\\anaconda3\\envs\\mlenv\\lib\\site-packages\\tensorboard\\compat\\tensorflow_stub\\dtypes.py:550: FutureWarning: Passing (type, 1) or '1type' as a synonym of type is deprecated; in a future version of numpy, it will be understood as (type, (1,)) / '(1,)type'.\n",
      "  np_resource = np.dtype([(\"resource\", np.ubyte, 1)])\n"
     ]
    }
   ],
   "source": [
    "# Import our dependencies\n",
    "\n",
    "import pandas as pd\n",
    "import matplotlib as plt\n",
    "from sklearn.datasets import make_blobs\n",
    "import sklearn as skl\n",
    "import tensorflow as tf\n",
    "from sklearn.model_selection import train_test_split"
   ]
  },
  {
   "cell_type": "markdown",
   "metadata": {},
   "source": [
    "# Linear Data"
   ]
  },
  {
   "cell_type": "code",
   "execution_count": 2,
   "metadata": {},
   "outputs": [
    {
     "data": {
      "text/plain": [
       "<AxesSubplot:xlabel='Feature 1', ylabel='Feature 2'>"
      ]
     },
     "execution_count": 2,
     "metadata": {},
     "output_type": "execute_result"
    },
    {
     "data": {
      "image/png": "[encoded data removed]",
      "text/plain": [
       "<Figure size 432x288 with 2 Axes>"
      ]
     },
     "metadata": {
      "needs_background": "light"
     },
     "output_type": "display_data"
    }
   ],
   "source": [
    "# Generate dummy dataset\n",
    "X, y = make_blobs(n_samples=1000, centers=2, n_features=2, random_state=78)\n",
    "\n",
    "# Creating a DataFrame with the dummy data\n",
    "df = pd.DataFrame(X, columns=[\"Feature 1\", \"Feature 2\"])\n",
    "df[\"Target\"] = y\n",
    "\n",
    "# Plotting the dummy data\n",
    "df.plot.scatter(x=\"Feature 1\", y=\"Feature 2\", c=\"Target\", colormap=\"winter\")"
   ]
  },
  {
   "cell_type": "code",
   "execution_count": 3,
   "metadata": {},
   "outputs": [],
   "source": [
    "# Use sklearn to split dataset\n",
    "\n",
    "X_train, X_test, y_train, y_test = train_test_split(X, y, random_state=78)"
   ]
  },
  {
   "cell_type": "code",
   "execution_count": 4,
   "metadata": {},
   "outputs": [],
   "source": [
    "# Normalize our dummy data\n",
    "\n",
    "# Create scaler instance\n",
    "X_scaler = skl.preprocessing.StandardScaler()\n",
    "\n",
    "# Fit the scaler\n",
    "X_scaler.fit(X_train)\n",
    "\n",
    "# Scale the data\n",
    "X_train_scaled = X_scaler.transform(X_train)\n",
    "X_test_scaled = X_scaler.transform(X_test)"
   ]
  },
  {
   "cell_type": "code",
   "execution_count": 5,
   "metadata": {},
   "outputs": [],
   "source": [
    "# Create the Keras Sequential model\n",
    "nn_model = tf.keras.models.Sequential()"
   ]
  },
  {
   "cell_type": "code",
   "execution_count": 6,
   "metadata": {},
   "outputs": [
    {
     "name": "stdout",
     "output_type": "stream",
     "text": [
      "WARNING:tensorflow:From C:\\Users\\angel\\anaconda3\\envs\\mlenv\\lib\\site-packages\\tensorflow\\python\\ops\\init_ops.py:1251: calling VarianceScaling.__init__ (from tensorflow.python.ops.init_ops) with dtype is deprecated and will be removed in a future version.\n",
      "Instructions for updating:\n",
      "Call initializer instance with the dtype argument instead of passing it to the constructor\n"
     ]
    }
   ],
   "source": [
    "# Add our first Dense layer, including the input layer\n",
    "nn_model.add(tf.keras.layers.Dense(units=1, activation=\"relu\", input_dim=2))"
   ]
  },
  {
   "cell_type": "code",
   "execution_count": 7,
   "metadata": {},
   "outputs": [],
   "source": [
    "# Add the output layer that uses a probability activation function\n",
    "nn_model.add(tf.keras.layers.Dense(units=1, activation=\"sigmoid\"))"
   ]
  },
  {
   "cell_type": "code",
   "execution_count": 8,
   "metadata": {},
   "outputs": [
    {
     "name": "stdout",
     "output_type": "stream",
     "text": [
      "Model: \"sequential\"\n",
      "_________________________________________________________________\n",
      "Layer (type)                 Output Shape              Param #   \n",
      "=================================================================\n",
      "dense (Dense)                (None, 1)                 3         \n",
      "_________________________________________________________________\n",
      "dense_1 (Dense)              (None, 1)                 2         \n",
      "=================================================================\n",
      "Total params: 5\n",
      "Trainable params: 5\n",
      "Non-trainable params: 0\n",
      "_________________________________________________________________\n"
     ]
    }
   ],
   "source": [
    "# Check the structure of the Sequential model\n",
    "nn_model.summary()"
   ]
  },
  {
   "cell_type": "code",
   "execution_count": 9,
   "metadata": {},
   "outputs": [
    {
     "name": "stdout",
     "output_type": "stream",
     "text": [
      "WARNING:tensorflow:From C:\\Users\\angel\\anaconda3\\envs\\mlenv\\lib\\site-packages\\tensorflow\\python\\ops\\nn_impl.py:180: add_dispatch_support.<locals>.wrapper (from tensorflow.python.ops.array_ops) is deprecated and will be removed in a future version.\n",
      "Instructions for updating:\n",
      "Use tf.where in 2.0, which has the same broadcast rule as np.where\n"
     ]
    }
   ],
   "source": [
    "# Compile the Sequential model together and customize metrics\n",
    "nn_model.compile(loss=\"binary_crossentropy\", optimizer=\"adam\", metrics=[\"accuracy\"])"
   ]
  },
  {
   "cell_type": "code",
   "execution_count": 10,
   "metadata": {},
   "outputs": [
    {
     "name": "stdout",
     "output_type": "stream",
     "text": [
      "Epoch 1/100\n",
      "750/750 [==============================] - 0s 156us/sample - loss: 0.7574 - acc: 0.0280\n",
      "Epoch 2/100\n",
      "750/750 [==============================] - 0s 33us/sample - loss: 0.7443 - acc: 0.0040\n",
      "Epoch 3/100\n",
      "750/750 [==============================] - 0s 33us/sample - loss: 0.7330 - acc: 0.0053\n",
      "Epoch 4/100\n",
      "750/750 [==============================] - 0s 29us/sample - loss: 0.7230 - acc: 0.0067\n",
      "Epoch 5/100\n",
      "750/750 [==============================] - 0s 32us/sample - loss: 0.7143 - acc: 0.0147\n",
      "Epoch 6/100\n",
      "750/750 [==============================] - 0s 29us/sample - loss: 0.7061 - acc: 0.0293\n",
      "Epoch 7/100\n",
      "750/750 [==============================] - 0s 32us/sample - loss: 0.6987 - acc: 0.1467\n",
      "Epoch 8/100\n",
      "750/750 [==============================] - 0s 27us/sample - loss: 0.6916 - acc: 0.4933\n",
      "Epoch 9/100\n",
      "750/750 [==============================] - 0s 35us/sample - loss: 0.6847 - acc: 0.4933\n",
      "Epoch 10/100\n",
      "750/750 [==============================] - 0s 32us/sample - loss: 0.6776 - acc: 0.4933\n",
      "Epoch 11/100\n",
      "750/750 [==============================] - 0s 36us/sample - loss: 0.6700 - acc: 0.6640\n",
      "Epoch 12/100\n",
      "750/750 [==============================] - 0s 40us/sample - loss: 0.6617 - acc: 0.9960\n",
      "Epoch 13/100\n",
      "750/750 [==============================] - 0s 39us/sample - loss: 0.6528 - acc: 0.9960\n",
      "Epoch 14/100\n",
      "750/750 [==============================] - 0s 39us/sample - loss: 0.6424 - acc: 0.9947\n",
      "Epoch 15/100\n",
      "750/750 [==============================] - 0s 41us/sample - loss: 0.6313 - acc: 0.9960\n",
      "Epoch 16/100\n",
      "750/750 [==============================] - 0s 36us/sample - loss: 0.6191 - acc: 0.9960\n",
      "Epoch 17/100\n",
      "750/750 [==============================] - 0s 37us/sample - loss: 0.6058 - acc: 0.9960\n",
      "Epoch 18/100\n",
      "750/750 [==============================] - 0s 39us/sample - loss: 0.5917 - acc: 0.9960\n",
      "Epoch 19/100\n",
      "750/750 [==============================] - 0s 44us/sample - loss: 0.5768 - acc: 0.9960\n",
      "Epoch 20/100\n",
      "750/750 [==============================] - 0s 35us/sample - loss: 0.5616 - acc: 0.9960\n",
      "Epoch 21/100\n",
      "750/750 [==============================] - 0s 32us/sample - loss: 0.5461 - acc: 0.9960\n",
      "Epoch 22/100\n",
      "750/750 [==============================] - 0s 37us/sample - loss: 0.5304 - acc: 0.9960\n",
      "Epoch 23/100\n",
      "750/750 [==============================] - 0s 41us/sample - loss: 0.5147 - acc: 0.9960\n",
      "Epoch 24/100\n",
      "750/750 [==============================] - 0s 36us/sample - loss: 0.4992 - acc: 0.9960\n",
      "Epoch 25/100\n",
      "750/750 [==============================] - 0s 32us/sample - loss: 0.4839 - acc: 0.9960\n",
      "Epoch 26/100\n",
      "750/750 [==============================] - 0s 28us/sample - loss: 0.4689 - acc: 0.9960\n",
      "Epoch 27/100\n",
      "750/750 [==============================] - 0s 32us/sample - loss: 0.4543 - acc: 0.9960\n",
      "Epoch 28/100\n",
      "750/750 [==============================] - 0s 28us/sample - loss: 0.4402 - acc: 0.9960\n",
      "Epoch 29/100\n",
      "750/750 [==============================] - 0s 27us/sample - loss: 0.4265 - acc: 0.9960\n",
      "Epoch 30/100\n",
      "750/750 [==============================] - 0s 35us/sample - loss: 0.4134 - acc: 0.9960\n",
      "Epoch 31/100\n",
      "750/750 [==============================] - 0s 35us/sample - loss: 0.4008 - acc: 0.9960\n",
      "Epoch 32/100\n",
      "750/750 [==============================] - 0s 35us/sample - loss: 0.3886 - acc: 0.9960\n",
      "Epoch 33/100\n",
      "750/750 [==============================] - 0s 36us/sample - loss: 0.3770 - acc: 0.9960\n",
      "Epoch 34/100\n",
      "750/750 [==============================] - 0s 43us/sample - loss: 0.3658 - acc: 0.9960\n",
      "Epoch 35/100\n",
      "750/750 [==============================] - 0s 43us/sample - loss: 0.3551 - acc: 0.9960\n",
      "Epoch 36/100\n",
      "750/750 [==============================] - 0s 47us/sample - loss: 0.3448 - acc: 0.9960\n",
      "Epoch 37/100\n",
      "750/750 [==============================] - 0s 43us/sample - loss: 0.3349 - acc: 0.9960\n",
      "Epoch 38/100\n",
      "750/750 [==============================] - 0s 47us/sample - loss: 0.3255 - acc: 0.9960\n",
      "Epoch 39/100\n",
      "750/750 [==============================] - 0s 40us/sample - loss: 0.3164 - acc: 0.9960\n",
      "Epoch 40/100\n",
      "750/750 [==============================] - 0s 35us/sample - loss: 0.3078 - acc: 0.9960\n",
      "Epoch 41/100\n",
      "750/750 [==============================] - 0s 33us/sample - loss: 0.2994 - acc: 0.9960\n",
      "Epoch 42/100\n",
      "750/750 [==============================] - 0s 41us/sample - loss: 0.2914 - acc: 0.9960\n",
      "Epoch 43/100\n",
      "750/750 [==============================] - 0s 33us/sample - loss: 0.2838 - acc: 0.9960\n",
      "Epoch 44/100\n",
      "750/750 [==============================] - 0s 32us/sample - loss: 0.2764 - acc: 0.9960\n",
      "Epoch 45/100\n",
      "750/750 [==============================] - 0s 32us/sample - loss: 0.2693 - acc: 0.9960\n",
      "Epoch 46/100\n",
      "750/750 [==============================] - 0s 29us/sample - loss: 0.2625 - acc: 0.9960\n",
      "Epoch 47/100\n",
      "750/750 [==============================] - 0s 31us/sample - loss: 0.2559 - acc: 0.9973\n",
      "Epoch 48/100\n",
      "750/750 [==============================] - 0s 29us/sample - loss: 0.2496 - acc: 0.9973\n",
      "Epoch 49/100\n",
      "750/750 [==============================] - 0s 28us/sample - loss: 0.2435 - acc: 0.9973\n",
      "Epoch 50/100\n",
      "750/750 [==============================] - 0s 24us/sample - loss: 0.2377 - acc: 0.9987\n",
      "Epoch 51/100\n",
      "750/750 [==============================] - 0s 27us/sample - loss: 0.2320 - acc: 1.0000\n",
      "Epoch 52/100\n",
      "750/750 [==============================] - 0s 33us/sample - loss: 0.2266 - acc: 1.0000\n",
      "Epoch 53/100\n",
      "750/750 [==============================] - 0s 32us/sample - loss: 0.2214 - acc: 1.0000\n",
      "Epoch 54/100\n",
      "750/750 [==============================] - 0s 33us/sample - loss: 0.2163 - acc: 1.0000\n",
      "Epoch 55/100\n",
      "750/750 [==============================] - 0s 27us/sample - loss: 0.2114 - acc: 1.0000\n",
      "Epoch 56/100\n",
      "750/750 [==============================] - 0s 27us/sample - loss: 0.2066 - acc: 1.0000\n",
      "Epoch 57/100\n",
      "750/750 [==============================] - 0s 25us/sample - loss: 0.2021 - acc: 1.0000\n",
      "Epoch 58/100\n",
      "750/750 [==============================] - 0s 27us/sample - loss: 0.1976 - acc: 1.0000\n",
      "Epoch 59/100\n",
      "750/750 [==============================] - 0s 27us/sample - loss: 0.1933 - acc: 1.0000\n",
      "Epoch 60/100\n",
      "750/750 [==============================] - 0s 29us/sample - loss: 0.1891 - acc: 1.0000\n",
      "Epoch 61/100\n",
      "750/750 [==============================] - 0s 29us/sample - loss: 0.1851 - acc: 1.0000\n",
      "Epoch 62/100\n",
      "750/750 [==============================] - 0s 24us/sample - loss: 0.1812 - acc: 1.0000\n",
      "Epoch 63/100\n",
      "750/750 [==============================] - 0s 32us/sample - loss: 0.1774 - acc: 1.0000\n",
      "Epoch 64/100\n",
      "750/750 [==============================] - 0s 32us/sample - loss: 0.1737 - acc: 1.0000\n",
      "Epoch 65/100\n",
      "750/750 [==============================] - 0s 35us/sample - loss: 0.1701 - acc: 1.0000\n",
      "Epoch 66/100\n",
      "750/750 [==============================] - 0s 33us/sample - loss: 0.1666 - acc: 1.0000\n",
      "Epoch 67/100\n",
      "750/750 [==============================] - 0s 29us/sample - loss: 0.1632 - acc: 1.0000\n",
      "Epoch 68/100\n",
      "750/750 [==============================] - 0s 35us/sample - loss: 0.1599 - acc: 1.0000\n",
      "Epoch 69/100\n",
      "750/750 [==============================] - 0s 36us/sample - loss: 0.1568 - acc: 1.0000\n",
      "Epoch 70/100\n",
      "750/750 [==============================] - 0s 33us/sample - loss: 0.1537 - acc: 1.0000\n",
      "Epoch 71/100\n",
      "750/750 [==============================] - 0s 32us/sample - loss: 0.1507 - acc: 1.0000\n",
      "Epoch 72/100\n",
      "750/750 [==============================] - 0s 39us/sample - loss: 0.1477 - acc: 1.0000\n",
      "Epoch 73/100\n",
      "750/750 [==============================] - 0s 43us/sample - loss: 0.1449 - acc: 1.0000\n",
      "Epoch 74/100\n",
      "750/750 [==============================] - 0s 39us/sample - loss: 0.1421 - acc: 1.0000\n",
      "Epoch 75/100\n",
      "750/750 [==============================] - 0s 36us/sample - loss: 0.1394 - acc: 1.0000\n",
      "Epoch 76/100\n",
      "750/750 [==============================] - 0s 36us/sample - loss: 0.1367 - acc: 1.0000\n",
      "Epoch 77/100\n",
      "750/750 [==============================] - 0s 33us/sample - loss: 0.1342 - acc: 1.0000\n",
      "Epoch 78/100\n",
      "750/750 [==============================] - 0s 36us/sample - loss: 0.1317 - acc: 1.0000\n",
      "Epoch 79/100\n",
      "750/750 [==============================] - 0s 33us/sample - loss: 0.1292 - acc: 1.0000\n",
      "Epoch 80/100\n",
      "750/750 [==============================] - 0s 36us/sample - loss: 0.1268 - acc: 1.0000\n",
      "Epoch 81/100\n",
      "750/750 [==============================] - 0s 36us/sample - loss: 0.1245 - acc: 1.0000\n",
      "Epoch 82/100\n",
      "750/750 [==============================] - 0s 31us/sample - loss: 0.1223 - acc: 1.0000\n",
      "Epoch 83/100\n"
     ]
    },
    {
     "name": "stdout",
     "output_type": "stream",
     "text": [
      "750/750 [==============================] - 0s 33us/sample - loss: 0.1200 - acc: 1.0000\n",
      "Epoch 84/100\n",
      "750/750 [==============================] - 0s 32us/sample - loss: 0.1179 - acc: 1.0000\n",
      "Epoch 85/100\n",
      "750/750 [==============================] - 0s 31us/sample - loss: 0.1158 - acc: 1.0000\n",
      "Epoch 86/100\n",
      "750/750 [==============================] - 0s 27us/sample - loss: 0.1138 - acc: 1.0000\n",
      "Epoch 87/100\n",
      "750/750 [==============================] - 0s 34us/sample - loss: 0.1118 - acc: 1.0000\n",
      "Epoch 88/100\n",
      "750/750 [==============================] - 0s 35us/sample - loss: 0.1098 - acc: 1.0000\n",
      "Epoch 89/100\n",
      "750/750 [==============================] - 0s 43us/sample - loss: 0.1079 - acc: 1.0000\n",
      "Epoch 90/100\n",
      "750/750 [==============================] - 0s 40us/sample - loss: 0.1061 - acc: 1.0000\n",
      "Epoch 91/100\n",
      "750/750 [==============================] - 0s 40us/sample - loss: 0.1043 - acc: 1.0000\n",
      "Epoch 92/100\n",
      "750/750 [==============================] - 0s 39us/sample - loss: 0.1025 - acc: 1.0000\n",
      "Epoch 93/100\n",
      "750/750 [==============================] - 0s 35us/sample - loss: 0.1007 - acc: 1.0000\n",
      "Epoch 94/100\n",
      "750/750 [==============================] - 0s 35us/sample - loss: 0.0990 - acc: 1.0000\n",
      "Epoch 95/100\n",
      "750/750 [==============================] - 0s 35us/sample - loss: 0.0974 - acc: 1.0000\n",
      "Epoch 96/100\n",
      "750/750 [==============================] - 0s 43us/sample - loss: 0.0958 - acc: 1.0000\n",
      "Epoch 97/100\n",
      "750/750 [==============================] - 0s 44us/sample - loss: 0.0942 - acc: 1.0000\n",
      "Epoch 98/100\n",
      "750/750 [==============================] - 0s 41us/sample - loss: 0.0926 - acc: 1.0000\n",
      "Epoch 99/100\n",
      "750/750 [==============================] - 0s 44us/sample - loss: 0.0911 - acc: 1.0000\n",
      "Epoch 100/100\n",
      "750/750 [==============================] - 0s 39us/sample - loss: 0.0896 - acc: 1.0000\n"
     ]
    }
   ],
   "source": [
    "# Fit the model to the training data\n",
    "fit_model = nn_model.fit(X_train_scaled, y_train, epochs=100)"
   ]
  },
  {
   "cell_type": "code",
   "execution_count": 11,
   "metadata": {},
   "outputs": [
    {
     "data": {
      "text/plain": [
       "<AxesSubplot:>"
      ]
     },
     "execution_count": 11,
     "metadata": {},
     "output_type": "execute_result"
    },
    {
     "data": {
      "image/png": "[encoded data removed]",
      "text/plain": [
       "<Figure size 432x288 with 1 Axes>"
      ]
     },
     "metadata": {
      "needs_background": "light"
     },
     "output_type": "display_data"
    }
   ],
   "source": [
    "# Create a DataFrame containing training history\n",
    "history_df = pd.DataFrame(fit_model.history, index=range(1,len(fit_model.history[\"loss\"])+1))\n",
    "\n",
    "# Plot the loss over the 100 epochs\n",
    "history_df.plot(y=\"loss\")"
   ]
  },
  {
   "cell_type": "code",
   "execution_count": 12,
   "metadata": {},
   "outputs": [
    {
     "data": {
      "text/plain": [
       "<AxesSubplot:>"
      ]
     },
     "execution_count": 12,
     "metadata": {},
     "output_type": "execute_result"
    },
    {
     "data": {
      "image/png": "[encoded data removed]",
      "text/plain": [
       "<Figure size 432x288 with 1 Axes>"
      ]
     },
     "metadata": {
      "needs_background": "light"
     },
     "output_type": "display_data"
    }
   ],
   "source": [
    "# Plot the accuracy over the 100 epochs\n",
    "history_df.plot(y=\"acc\")"
   ]
  },
  {
   "cell_type": "code",
   "execution_count": 13,
   "metadata": {},
   "outputs": [
    {
     "name": "stdout",
     "output_type": "stream",
     "text": [
      "250/250 - 0s - loss: 0.0832 - acc: 1.0000\n",
      "Loss: 0.08322389966249466, Accuracy: 1.0\n"
     ]
    }
   ],
   "source": [
    "# Evaluate the model using the test data\n",
    "model_loss, model_accuracy = nn_model.evaluate(X_test_scaled,y_test,verbose=2)\n",
    "print(f\"Loss: {model_loss}, Accuracy: {model_accuracy}\")"
   ]
  },
  {
   "cell_type": "code",
   "execution_count": 14,
   "metadata": {},
   "outputs": [
    {
     "data": {
      "text/plain": [
       "array([[0],\n",
       "       [1],\n",
       "       [0],\n",
       "       [1],\n",
       "       [0],\n",
       "       [0],\n",
       "       [1],\n",
       "       [1],\n",
       "       [1],\n",
       "       [0]])"
      ]
     },
     "execution_count": 14,
     "metadata": {},
     "output_type": "execute_result"
    }
   ],
   "source": [
    "# Predict the classification of a new set of blob data\n",
    "new_X, new_Y = make_blobs(n_samples=10, centers=2, n_features=2, random_state=78)\n",
    "new_X_scaled = X_scaler.transform(new_X)\n",
    "nn_model.predict_classes(new_X_scaled)"
   ]
  },
  {
   "cell_type": "markdown",
   "metadata": {},
   "source": [
    "# Non-Linear Data"
   ]
  },
  {
   "cell_type": "code",
   "execution_count": 15,
   "metadata": {},
   "outputs": [
    {
     "data": {
      "text/plain": [
       "<AxesSubplot:xlabel='Feature 1', ylabel='Feature 2'>"
      ]
     },
     "execution_count": 15,
     "metadata": {},
     "output_type": "execute_result"
    },
    {
     "data": {
      "image/png": "[encoded data removed]",
      "text/plain": [
       "<Figure size 432x288 with 2 Axes>"
      ]
     },
     "metadata": {
      "needs_background": "light"
     },
     "output_type": "display_data"
    }
   ],
   "source": [
    "from sklearn.datasets import make_moons\n",
    "\n",
    "# Creating dummy nonlinear data\n",
    "X_moons, y_moons = make_moons(n_samples=1000, noise=0.08, random_state=78)\n",
    "\n",
    "# Transforming y_moons to a vertical vector\n",
    "y_moons = y_moons.reshape(-1, 1)\n",
    "\n",
    "# Creating a DataFrame to plot the nonlinear dummy data\n",
    "df_moons = pd.DataFrame(X_moons, columns=[\"Feature 1\", \"Feature 2\"])\n",
    "df_moons[\"Target\"] = y_moons\n",
    "\n",
    "# Plot the nonlinear dummy data\n",
    "df_moons.plot.scatter(x=\"Feature 1\",y=\"Feature 2\", c=\"Target\",colormap=\"winter\")"
   ]
  },
  {
   "cell_type": "code",
   "execution_count": 16,
   "metadata": {},
   "outputs": [],
   "source": [
    "# Create training and testing sets\n",
    "X_moon_train, X_moon_test, y_moon_train, y_moon_test = train_test_split(\n",
    "    X_moons, y_moons, random_state=78\n",
    ")\n",
    "\n",
    "# Create the scaler instance\n",
    "X_moon_scaler = skl.preprocessing.StandardScaler()\n",
    "\n",
    "# Fit the scaler\n",
    "X_moon_scaler.fit(X_moon_train)\n",
    "\n",
    "# Scale the data\n",
    "X_moon_train_scaled = X_moon_scaler.transform(X_moon_train)\n",
    "X_moon_test_scaled = X_moon_scaler.transform(X_moon_test)"
   ]
  },
  {
   "cell_type": "code",
   "execution_count": 17,
   "metadata": {},
   "outputs": [
    {
     "name": "stdout",
     "output_type": "stream",
     "text": [
      "Epoch 1/100\n",
      "750/750 [==============================] - 0s 35us/sample - loss: 1.1691 - acc: 0.4227\n",
      "Epoch 2/100\n",
      "750/750 [==============================] - 0s 40us/sample - loss: 1.0517 - acc: 0.4373\n",
      "Epoch 3/100\n",
      "750/750 [==============================] - 0s 36us/sample - loss: 0.9690 - acc: 0.4547\n",
      "Epoch 4/100\n",
      "750/750 [==============================] - 0s 39us/sample - loss: 0.9130 - acc: 0.4707\n",
      "Epoch 5/100\n",
      "750/750 [==============================] - 0s 40us/sample - loss: 0.8725 - acc: 0.4813\n",
      "Epoch 6/100\n",
      "750/750 [==============================] - 0s 37us/sample - loss: 0.8416 - acc: 0.4907\n",
      "Epoch 7/100\n",
      "750/750 [==============================] - 0s 40us/sample - loss: 0.8173 - acc: 0.5080\n",
      "Epoch 8/100\n",
      "750/750 [==============================] - 0s 36us/sample - loss: 0.7969 - acc: 0.5200\n",
      "Epoch 9/100\n",
      "750/750 [==============================] - 0s 36us/sample - loss: 0.7799 - acc: 0.5320\n",
      "Epoch 10/100\n",
      "750/750 [==============================] - 0s 31us/sample - loss: 0.7645 - acc: 0.5453\n",
      "Epoch 11/100\n",
      "750/750 [==============================] - 0s 36us/sample - loss: 0.7508 - acc: 0.5587\n",
      "Epoch 12/100\n",
      "750/750 [==============================] - 0s 36us/sample - loss: 0.7388 - acc: 0.5627\n",
      "Epoch 13/100\n",
      "750/750 [==============================] - 0s 41us/sample - loss: 0.7277 - acc: 0.5720\n",
      "Epoch 14/100\n",
      "750/750 [==============================] - 0s 39us/sample - loss: 0.7178 - acc: 0.5787\n",
      "Epoch 15/100\n",
      "750/750 [==============================] - 0s 40us/sample - loss: 0.7085 - acc: 0.5853\n",
      "Epoch 16/100\n",
      "750/750 [==============================] - 0s 39us/sample - loss: 0.7000 - acc: 0.5880\n",
      "Epoch 17/100\n",
      "750/750 [==============================] - 0s 36us/sample - loss: 0.6921 - acc: 0.5893\n",
      "Epoch 18/100\n",
      "750/750 [==============================] - 0s 44us/sample - loss: 0.6845 - acc: 0.5973\n",
      "Epoch 19/100\n",
      "750/750 [==============================] - 0s 40us/sample - loss: 0.6774 - acc: 0.6093\n",
      "Epoch 20/100\n",
      "750/750 [==============================] - 0s 36us/sample - loss: 0.6708 - acc: 0.6120\n",
      "Epoch 21/100\n",
      "750/750 [==============================] - 0s 29us/sample - loss: 0.6644 - acc: 0.6147\n",
      "Epoch 22/100\n",
      "750/750 [==============================] - 0s 40us/sample - loss: 0.6584 - acc: 0.6160\n",
      "Epoch 23/100\n",
      "750/750 [==============================] - 0s 36us/sample - loss: 0.6527 - acc: 0.6173\n",
      "Epoch 24/100\n",
      "750/750 [==============================] - 0s 37us/sample - loss: 0.6471 - acc: 0.6187\n",
      "Epoch 25/100\n",
      "750/750 [==============================] - 0s 35us/sample - loss: 0.6420 - acc: 0.6253\n",
      "Epoch 26/100\n",
      "750/750 [==============================] - 0s 35us/sample - loss: 0.6366 - acc: 0.6267\n",
      "Epoch 27/100\n",
      "750/750 [==============================] - 0s 39us/sample - loss: 0.6318 - acc: 0.6307\n",
      "Epoch 28/100\n",
      "750/750 [==============================] - 0s 36us/sample - loss: 0.6273 - acc: 0.6307\n",
      "Epoch 29/100\n",
      "750/750 [==============================] - 0s 36us/sample - loss: 0.6226 - acc: 0.6333\n",
      "Epoch 30/100\n",
      "750/750 [==============================] - 0s 35us/sample - loss: 0.6183 - acc: 0.6387\n",
      "Epoch 31/100\n",
      "750/750 [==============================] - 0s 36us/sample - loss: 0.6140 - acc: 0.6413\n",
      "Epoch 32/100\n",
      "750/750 [==============================] - 0s 35us/sample - loss: 0.6100 - acc: 0.6440\n",
      "Epoch 33/100\n",
      "750/750 [==============================] - 0s 37us/sample - loss: 0.6063 - acc: 0.6413\n",
      "Epoch 34/100\n",
      "750/750 [==============================] - 0s 39us/sample - loss: 0.6024 - acc: 0.6440\n",
      "Epoch 35/100\n",
      "750/750 [==============================] - 0s 43us/sample - loss: 0.5989 - acc: 0.6480\n",
      "Epoch 36/100\n",
      "750/750 [==============================] - 0s 40us/sample - loss: 0.5955 - acc: 0.6507\n",
      "Epoch 37/100\n",
      "750/750 [==============================] - 0s 37us/sample - loss: 0.5921 - acc: 0.6533\n",
      "Epoch 38/100\n",
      "750/750 [==============================] - 0s 39us/sample - loss: 0.5889 - acc: 0.6547\n",
      "Epoch 39/100\n",
      "750/750 [==============================] - 0s 46us/sample - loss: 0.5859 - acc: 0.6560\n",
      "Epoch 40/100\n",
      "750/750 [==============================] - 0s 47us/sample - loss: 0.5829 - acc: 0.6560\n",
      "Epoch 41/100\n",
      "750/750 [==============================] - 0s 45us/sample - loss: 0.5799 - acc: 0.6600\n",
      "Epoch 42/100\n",
      "750/750 [==============================] - 0s 45us/sample - loss: 0.5771 - acc: 0.6600\n",
      "Epoch 43/100\n",
      "750/750 [==============================] - 0s 51us/sample - loss: 0.5743 - acc: 0.6587\n",
      "Epoch 44/100\n",
      "750/750 [==============================] - 0s 47us/sample - loss: 0.5715 - acc: 0.6600\n",
      "Epoch 45/100\n",
      "750/750 [==============================] - 0s 49us/sample - loss: 0.5688 - acc: 0.6600\n",
      "Epoch 46/100\n",
      "750/750 [==============================] - 0s 40us/sample - loss: 0.5661 - acc: 0.6627\n",
      "Epoch 47/100\n",
      "750/750 [==============================] - 0s 32us/sample - loss: 0.5635 - acc: 0.6640\n",
      "Epoch 48/100\n",
      "750/750 [==============================] - 0s 31us/sample - loss: 0.5610 - acc: 0.6640\n",
      "Epoch 49/100\n",
      "750/750 [==============================] - 0s 32us/sample - loss: 0.5586 - acc: 0.6680\n",
      "Epoch 50/100\n",
      "750/750 [==============================] - 0s 33us/sample - loss: 0.5560 - acc: 0.6693\n",
      "Epoch 51/100\n",
      "750/750 [==============================] - 0s 35us/sample - loss: 0.5536 - acc: 0.6707\n",
      "Epoch 52/100\n",
      "750/750 [==============================] - 0s 31us/sample - loss: 0.5512 - acc: 0.6707\n",
      "Epoch 53/100\n",
      "750/750 [==============================] - 0s 31us/sample - loss: 0.5490 - acc: 0.6747\n",
      "Epoch 54/100\n",
      "750/750 [==============================] - 0s 35us/sample - loss: 0.5467 - acc: 0.6787\n",
      "Epoch 55/100\n",
      "750/750 [==============================] - 0s 40us/sample - loss: 0.5445 - acc: 0.6800\n",
      "Epoch 56/100\n",
      "750/750 [==============================] - 0s 39us/sample - loss: 0.5421 - acc: 0.6840\n",
      "Epoch 57/100\n",
      "750/750 [==============================] - 0s 43us/sample - loss: 0.5399 - acc: 0.6867\n",
      "Epoch 58/100\n",
      "750/750 [==============================] - 0s 40us/sample - loss: 0.5377 - acc: 0.6880\n",
      "Epoch 59/100\n",
      "750/750 [==============================] - 0s 44us/sample - loss: 0.5355 - acc: 0.6880\n",
      "Epoch 60/100\n",
      "750/750 [==============================] - 0s 44us/sample - loss: 0.5332 - acc: 0.6947\n",
      "Epoch 61/100\n",
      "750/750 [==============================] - 0s 37us/sample - loss: 0.5311 - acc: 0.6987\n",
      "Epoch 62/100\n",
      "750/750 [==============================] - 0s 43us/sample - loss: 0.5290 - acc: 0.7027\n",
      "Epoch 63/100\n",
      "750/750 [==============================] - 0s 39us/sample - loss: 0.5269 - acc: 0.7040\n",
      "Epoch 64/100\n",
      "750/750 [==============================] - 0s 31us/sample - loss: 0.5248 - acc: 0.7053\n",
      "Epoch 65/100\n",
      "750/750 [==============================] - 0s 32us/sample - loss: 0.5227 - acc: 0.7107\n",
      "Epoch 66/100\n",
      "750/750 [==============================] - 0s 36us/sample - loss: 0.5206 - acc: 0.7133\n",
      "Epoch 67/100\n",
      "750/750 [==============================] - 0s 35us/sample - loss: 0.5185 - acc: 0.7147\n",
      "Epoch 68/100\n",
      "750/750 [==============================] - 0s 37us/sample - loss: 0.5163 - acc: 0.7160\n",
      "Epoch 69/100\n",
      "750/750 [==============================] - 0s 37us/sample - loss: 0.5144 - acc: 0.7160\n",
      "Epoch 70/100\n",
      "750/750 [==============================] - 0s 42us/sample - loss: 0.5122 - acc: 0.7187\n",
      "Epoch 71/100\n",
      "750/750 [==============================] - 0s 48us/sample - loss: 0.5101 - acc: 0.7187\n",
      "Epoch 72/100\n",
      "750/750 [==============================] - 0s 51us/sample - loss: 0.5079 - acc: 0.7213\n",
      "Epoch 73/100\n",
      "750/750 [==============================] - 0s 51us/sample - loss: 0.5058 - acc: 0.7213\n",
      "Epoch 74/100\n",
      "750/750 [==============================] - 0s 43us/sample - loss: 0.5037 - acc: 0.7240\n",
      "Epoch 75/100\n",
      "750/750 [==============================] - 0s 43us/sample - loss: 0.5016 - acc: 0.7240\n",
      "Epoch 76/100\n",
      "750/750 [==============================] - 0s 39us/sample - loss: 0.4994 - acc: 0.7253\n",
      "Epoch 77/100\n",
      "750/750 [==============================] - 0s 40us/sample - loss: 0.4972 - acc: 0.7267\n",
      "Epoch 78/100\n",
      "750/750 [==============================] - 0s 29us/sample - loss: 0.4950 - acc: 0.7280\n",
      "Epoch 79/100\n",
      "750/750 [==============================] - 0s 25us/sample - loss: 0.4929 - acc: 0.7280\n",
      "Epoch 80/100\n",
      "750/750 [==============================] - 0s 29us/sample - loss: 0.4907 - acc: 0.7280\n",
      "Epoch 81/100\n",
      "750/750 [==============================] - 0s 31us/sample - loss: 0.4884 - acc: 0.7280\n",
      "Epoch 82/100\n",
      "750/750 [==============================] - 0s 37us/sample - loss: 0.4862 - acc: 0.7320\n",
      "Epoch 83/100\n"
     ]
    },
    {
     "name": "stdout",
     "output_type": "stream",
     "text": [
      "750/750 [==============================] - 0s 39us/sample - loss: 0.4839 - acc: 0.7373\n",
      "Epoch 84/100\n",
      "750/750 [==============================] - 0s 39us/sample - loss: 0.4815 - acc: 0.7373\n",
      "Epoch 85/100\n",
      "750/750 [==============================] - 0s 40us/sample - loss: 0.4791 - acc: 0.7387\n",
      "Epoch 86/100\n",
      "750/750 [==============================] - 0s 41us/sample - loss: 0.4765 - acc: 0.7400\n",
      "Epoch 87/100\n",
      "750/750 [==============================] - 0s 37us/sample - loss: 0.4740 - acc: 0.7427\n",
      "Epoch 88/100\n",
      "750/750 [==============================] - 0s 37us/sample - loss: 0.4714 - acc: 0.7453\n",
      "Epoch 89/100\n",
      "750/750 [==============================] - 0s 35us/sample - loss: 0.4690 - acc: 0.7467\n",
      "Epoch 90/100\n",
      "750/750 [==============================] - 0s 35us/sample - loss: 0.4665 - acc: 0.7480\n",
      "Epoch 91/100\n",
      "750/750 [==============================] - 0s 37us/sample - loss: 0.4640 - acc: 0.7480\n",
      "Epoch 92/100\n",
      "750/750 [==============================] - 0s 37us/sample - loss: 0.4614 - acc: 0.7480\n",
      "Epoch 93/100\n",
      "750/750 [==============================] - 0s 43us/sample - loss: 0.4589 - acc: 0.7493\n",
      "Epoch 94/100\n",
      "750/750 [==============================] - 0s 43us/sample - loss: 0.4563 - acc: 0.7547\n",
      "Epoch 95/100\n",
      "750/750 [==============================] - 0s 39us/sample - loss: 0.4538 - acc: 0.7547\n",
      "Epoch 96/100\n",
      "750/750 [==============================] - 0s 41us/sample - loss: 0.4512 - acc: 0.7560\n",
      "Epoch 97/100\n",
      "750/750 [==============================] - 0s 41us/sample - loss: 0.4486 - acc: 0.7587\n",
      "Epoch 98/100\n",
      "750/750 [==============================] - 0s 39us/sample - loss: 0.4457 - acc: 0.7613\n",
      "Epoch 99/100\n",
      "750/750 [==============================] - 0s 32us/sample - loss: 0.4430 - acc: 0.7640\n",
      "Epoch 100/100\n",
      "750/750 [==============================] - 0s 36us/sample - loss: 0.4402 - acc: 0.7640\n"
     ]
    }
   ],
   "source": [
    "# Training the model with the nonlinear data\n",
    "model_moon = nn_model.fit(X_moon_train_scaled, y_moon_train, epochs=100, shuffle=True)"
   ]
  },
  {
   "cell_type": "code",
   "execution_count": 18,
   "metadata": {},
   "outputs": [
    {
     "data": {
      "text/plain": [
       "<AxesSubplot:>"
      ]
     },
     "execution_count": 18,
     "metadata": {},
     "output_type": "execute_result"
    },
    {
     "data": {
      "image/png": "[encoded data removed]",
      "text/plain": [
       "<Figure size 432x288 with 1 Axes>"
      ]
     },
     "metadata": {
      "needs_background": "light"
     },
     "output_type": "display_data"
    }
   ],
   "source": [
    "# Create a DataFrame containing training history\n",
    "history_df = pd.DataFrame(model_moon.history, index=range(1,len(model_moon.history[\"loss\"])+1))\n",
    "\n",
    "# Plot the loss\n",
    "history_df.plot(y=\"loss\")"
   ]
  },
  {
   "cell_type": "code",
   "execution_count": 19,
   "metadata": {
    "scrolled": true
   },
   "outputs": [
    {
     "data": {
      "text/plain": [
       "<AxesSubplot:>"
      ]
     },
     "execution_count": 19,
     "metadata": {},
     "output_type": "execute_result"
    },
    {
     "data": {
      "image/png": "[encoded data removed]",
      "text/plain": [
       "<Figure size 432x288 with 1 Axes>"
      ]
     },
     "metadata": {
      "needs_background": "light"
     },
     "output_type": "display_data"
    }
   ],
   "source": [
    "# Plot the loss\n",
    "history_df.plot(y=\"acc\")"
   ]
  },
  {
   "cell_type": "markdown",
   "metadata": {},
   "source": [
    "# Multiple-Neuron Neural Network"
   ]
  },
  {
   "cell_type": "code",
   "execution_count": 20,
   "metadata": {},
   "outputs": [],
   "source": [
    "# Since we want to change the structure of our neural network model, we \n",
    "# must first create a new Sequential model by adding and running the \n",
    "# following code to our notebook:\n",
    "\n",
    "# Generate our new Sequential model\n",
    "new_model = tf.keras.models.Sequential()"
   ]
  },
  {
   "cell_type": "code",
   "execution_count": 21,
   "metadata": {},
   "outputs": [],
   "source": [
    "# Using our new Sequential model, we’ll add our input, hidden, and output\n",
    "# layers using the Dense class. However, this time we’ll create a hidden \n",
    "# layer with six neurons instead of one by changing the units parameter \n",
    "# while keeping all other parameters the same.\n",
    "\n",
    "# Add the input and hidden layer\n",
    "number_inputs = 2\n",
    "number_hidden_nodes = 6\n",
    "\n",
    "new_model.add(tf.keras.layers.Dense(units=number_hidden_nodes, activation=\"relu\", input_dim=number_inputs))\n",
    "\n",
    "# Add the output layer that uses a probability activation function\n",
    "new_model.add(tf.keras.layers.Dense(units=1, activation=\"sigmoid\"))"
   ]
  },
  {
   "cell_type": "code",
   "execution_count": 22,
   "metadata": {},
   "outputs": [
    {
     "name": "stdout",
     "output_type": "stream",
     "text": [
      "Epoch 1/100\n",
      "750/750 [==============================] - 0s 125us/sample - loss: 0.7018 - acc: 0.6680\n",
      "Epoch 2/100\n",
      "750/750 [==============================] - 0s 50us/sample - loss: 0.6684 - acc: 0.6773\n",
      "Epoch 3/100\n",
      "750/750 [==============================] - 0s 52us/sample - loss: 0.6390 - acc: 0.6893\n",
      "Epoch 4/100\n",
      "750/750 [==============================] - 0s 51us/sample - loss: 0.6124 - acc: 0.7000\n",
      "Epoch 5/100\n",
      "750/750 [==============================] - 0s 44us/sample - loss: 0.5885 - acc: 0.7107\n",
      "Epoch 6/100\n",
      "750/750 [==============================] - 0s 41us/sample - loss: 0.5673 - acc: 0.7253\n",
      "Epoch 7/100\n",
      "750/750 [==============================] - 0s 43us/sample - loss: 0.5482 - acc: 0.7320\n",
      "Epoch 8/100\n",
      "750/750 [==============================] - 0s 40us/sample - loss: 0.5310 - acc: 0.7253\n",
      "Epoch 9/100\n",
      "750/750 [==============================] - 0s 33us/sample - loss: 0.5158 - acc: 0.7333\n",
      "Epoch 10/100\n",
      "750/750 [==============================] - 0s 32us/sample - loss: 0.5018 - acc: 0.7373\n",
      "Epoch 11/100\n",
      "750/750 [==============================] - 0s 32us/sample - loss: 0.4895 - acc: 0.7440\n",
      "Epoch 12/100\n",
      "750/750 [==============================] - 0s 33us/sample - loss: 0.4783 - acc: 0.7547\n",
      "Epoch 13/100\n",
      "750/750 [==============================] - 0s 36us/sample - loss: 0.4681 - acc: 0.7600\n",
      "Epoch 14/100\n",
      "750/750 [==============================] - 0s 37us/sample - loss: 0.4587 - acc: 0.7667\n",
      "Epoch 15/100\n",
      "750/750 [==============================] - 0s 36us/sample - loss: 0.4502 - acc: 0.7840\n",
      "Epoch 16/100\n",
      "750/750 [==============================] - 0s 41us/sample - loss: 0.4422 - acc: 0.7960\n",
      "Epoch 17/100\n",
      "750/750 [==============================] - 0s 36us/sample - loss: 0.4348 - acc: 0.8067\n",
      "Epoch 18/100\n",
      "750/750 [==============================] - 0s 36us/sample - loss: 0.4280 - acc: 0.8160\n",
      "Epoch 19/100\n",
      "750/750 [==============================] - 0s 29us/sample - loss: 0.4217 - acc: 0.8240\n",
      "Epoch 20/100\n",
      "750/750 [==============================] - 0s 37us/sample - loss: 0.4156 - acc: 0.8360\n",
      "Epoch 21/100\n",
      "750/750 [==============================] - 0s 35us/sample - loss: 0.4099 - acc: 0.8453\n",
      "Epoch 22/100\n",
      "750/750 [==============================] - 0s 32us/sample - loss: 0.4047 - acc: 0.8600\n",
      "Epoch 23/100\n",
      "750/750 [==============================] - 0s 35us/sample - loss: 0.3995 - acc: 0.8627\n",
      "Epoch 24/100\n",
      "750/750 [==============================] - 0s 25us/sample - loss: 0.3950 - acc: 0.8667\n",
      "Epoch 25/100\n",
      "750/750 [==============================] - 0s 35us/sample - loss: 0.3904 - acc: 0.8733\n",
      "Epoch 26/100\n",
      "750/750 [==============================] - 0s 27us/sample - loss: 0.3860 - acc: 0.8733\n",
      "Epoch 27/100\n",
      "750/750 [==============================] - 0s 33us/sample - loss: 0.3820 - acc: 0.8747\n",
      "Epoch 28/100\n",
      "750/750 [==============================] - 0s 27us/sample - loss: 0.3782 - acc: 0.8773\n",
      "Epoch 29/100\n",
      "750/750 [==============================] - 0s 33us/sample - loss: 0.3745 - acc: 0.8773\n",
      "Epoch 30/100\n",
      "750/750 [==============================] - 0s 36us/sample - loss: 0.3710 - acc: 0.8773\n",
      "Epoch 31/100\n",
      "750/750 [==============================] - 0s 40us/sample - loss: 0.3677 - acc: 0.8827\n",
      "Epoch 32/100\n",
      "750/750 [==============================] - 0s 44us/sample - loss: 0.3644 - acc: 0.8813\n",
      "Epoch 33/100\n",
      "750/750 [==============================] - 0s 44us/sample - loss: 0.3613 - acc: 0.8827\n",
      "Epoch 34/100\n",
      "750/750 [==============================] - 0s 51us/sample - loss: 0.3584 - acc: 0.8827\n",
      "Epoch 35/100\n",
      "750/750 [==============================] - 0s 47us/sample - loss: 0.3555 - acc: 0.8840\n",
      "Epoch 36/100\n",
      "750/750 [==============================] - 0s 49us/sample - loss: 0.3530 - acc: 0.8827\n",
      "Epoch 37/100\n",
      "750/750 [==============================] - 0s 41us/sample - loss: 0.3505 - acc: 0.8827\n",
      "Epoch 38/100\n",
      "750/750 [==============================] - 0s 49us/sample - loss: 0.3481 - acc: 0.8813\n",
      "Epoch 39/100\n",
      "750/750 [==============================] - 0s 51us/sample - loss: 0.3457 - acc: 0.8813\n",
      "Epoch 40/100\n",
      "750/750 [==============================] - 0s 47us/sample - loss: 0.3435 - acc: 0.8813\n",
      "Epoch 41/100\n",
      "750/750 [==============================] - 0s 33us/sample - loss: 0.3413 - acc: 0.8813\n",
      "Epoch 42/100\n",
      "750/750 [==============================] - 0s 33us/sample - loss: 0.3392 - acc: 0.8800\n",
      "Epoch 43/100\n",
      "750/750 [==============================] - 0s 39us/sample - loss: 0.3372 - acc: 0.8813\n",
      "Epoch 44/100\n",
      "750/750 [==============================] - 0s 43us/sample - loss: 0.3353 - acc: 0.8813\n",
      "Epoch 45/100\n",
      "750/750 [==============================] - 0s 44us/sample - loss: 0.3334 - acc: 0.8813\n",
      "Epoch 46/100\n",
      "750/750 [==============================] - 0s 41us/sample - loss: 0.3316 - acc: 0.8813\n",
      "Epoch 47/100\n",
      "750/750 [==============================] - 0s 39us/sample - loss: 0.3298 - acc: 0.8813\n",
      "Epoch 48/100\n",
      "750/750 [==============================] - 0s 32us/sample - loss: 0.3282 - acc: 0.8800\n",
      "Epoch 49/100\n",
      "750/750 [==============================] - 0s 31us/sample - loss: 0.3266 - acc: 0.8800\n",
      "Epoch 50/100\n",
      "750/750 [==============================] - 0s 27us/sample - loss: 0.3250 - acc: 0.8800\n",
      "Epoch 51/100\n",
      "750/750 [==============================] - 0s 29us/sample - loss: 0.3235 - acc: 0.8813\n",
      "Epoch 52/100\n",
      "750/750 [==============================] - 0s 25us/sample - loss: 0.3221 - acc: 0.8800\n",
      "Epoch 53/100\n",
      "750/750 [==============================] - 0s 29us/sample - loss: 0.3206 - acc: 0.8813\n",
      "Epoch 54/100\n",
      "750/750 [==============================] - 0s 29us/sample - loss: 0.3192 - acc: 0.8813\n",
      "Epoch 55/100\n",
      "750/750 [==============================] - 0s 29us/sample - loss: 0.3180 - acc: 0.8813\n",
      "Epoch 56/100\n",
      "750/750 [==============================] - 0s 31us/sample - loss: 0.3167 - acc: 0.8813\n",
      "Epoch 57/100\n",
      "750/750 [==============================] - 0s 28us/sample - loss: 0.3155 - acc: 0.8813\n",
      "Epoch 58/100\n",
      "750/750 [==============================] - 0s 31us/sample - loss: 0.3142 - acc: 0.8813\n",
      "Epoch 59/100\n",
      "750/750 [==============================] - 0s 32us/sample - loss: 0.3131 - acc: 0.8827\n",
      "Epoch 60/100\n",
      "750/750 [==============================] - 0s 39us/sample - loss: 0.3119 - acc: 0.8827\n",
      "Epoch 61/100\n",
      "750/750 [==============================] - 0s 39us/sample - loss: 0.3108 - acc: 0.8827\n",
      "Epoch 62/100\n",
      "750/750 [==============================] - 0s 40us/sample - loss: 0.3098 - acc: 0.8827\n",
      "Epoch 63/100\n",
      "750/750 [==============================] - 0s 32us/sample - loss: 0.3088 - acc: 0.8827\n",
      "Epoch 64/100\n",
      "750/750 [==============================] - 0s 41us/sample - loss: 0.3077 - acc: 0.8840\n",
      "Epoch 65/100\n",
      "750/750 [==============================] - 0s 40us/sample - loss: 0.3068 - acc: 0.8827\n",
      "Epoch 66/100\n",
      "750/750 [==============================] - 0s 32us/sample - loss: 0.3058 - acc: 0.8840\n",
      "Epoch 67/100\n",
      "750/750 [==============================] - 0s 40us/sample - loss: 0.3048 - acc: 0.8840\n",
      "Epoch 68/100\n",
      "750/750 [==============================] - 0s 43us/sample - loss: 0.3040 - acc: 0.8840\n",
      "Epoch 69/100\n",
      "750/750 [==============================] - 0s 44us/sample - loss: 0.3031 - acc: 0.8840\n",
      "Epoch 70/100\n",
      "750/750 [==============================] - 0s 41us/sample - loss: 0.3023 - acc: 0.8840\n",
      "Epoch 71/100\n",
      "750/750 [==============================] - 0s 43us/sample - loss: 0.3014 - acc: 0.8840\n",
      "Epoch 72/100\n",
      "750/750 [==============================] - 0s 43us/sample - loss: 0.3006 - acc: 0.8853\n",
      "Epoch 73/100\n",
      "750/750 [==============================] - 0s 37us/sample - loss: 0.2998 - acc: 0.8853\n",
      "Epoch 74/100\n",
      "750/750 [==============================] - 0s 40us/sample - loss: 0.2990 - acc: 0.8853\n",
      "Epoch 75/100\n",
      "750/750 [==============================] - 0s 40us/sample - loss: 0.2982 - acc: 0.8853\n",
      "Epoch 76/100\n",
      "750/750 [==============================] - 0s 38us/sample - loss: 0.2976 - acc: 0.8853\n",
      "Epoch 77/100\n",
      "750/750 [==============================] - 0s 33us/sample - loss: 0.2969 - acc: 0.8853\n",
      "Epoch 78/100\n",
      "750/750 [==============================] - 0s 36us/sample - loss: 0.2961 - acc: 0.8853\n",
      "Epoch 79/100\n",
      "750/750 [==============================] - 0s 30us/sample - loss: 0.2954 - acc: 0.8853\n",
      "Epoch 80/100\n",
      "750/750 [==============================] - 0s 33us/sample - loss: 0.2947 - acc: 0.8853\n",
      "Epoch 81/100\n",
      "750/750 [==============================] - 0s 37us/sample - loss: 0.2941 - acc: 0.8853\n",
      "Epoch 82/100\n",
      "750/750 [==============================] - 0s 31us/sample - loss: 0.2936 - acc: 0.8853\n",
      "Epoch 83/100\n"
     ]
    },
    {
     "name": "stdout",
     "output_type": "stream",
     "text": [
      "750/750 [==============================] - 0s 32us/sample - loss: 0.2928 - acc: 0.8853\n",
      "Epoch 84/100\n",
      "750/750 [==============================] - 0s 31us/sample - loss: 0.2922 - acc: 0.8853\n",
      "Epoch 85/100\n",
      "750/750 [==============================] - 0s 33us/sample - loss: 0.2915 - acc: 0.8853\n",
      "Epoch 86/100\n",
      "750/750 [==============================] - 0s 33us/sample - loss: 0.2909 - acc: 0.8853\n",
      "Epoch 87/100\n",
      "750/750 [==============================] - 0s 33us/sample - loss: 0.2903 - acc: 0.8853\n",
      "Epoch 88/100\n",
      "750/750 [==============================] - 0s 37us/sample - loss: 0.2897 - acc: 0.8853\n",
      "Epoch 89/100\n",
      "750/750 [==============================] - 0s 40us/sample - loss: 0.2890 - acc: 0.8853\n",
      "Epoch 90/100\n",
      "750/750 [==============================] - 0s 43us/sample - loss: 0.2885 - acc: 0.8853\n",
      "Epoch 91/100\n",
      "750/750 [==============================] - 0s 43us/sample - loss: 0.2880 - acc: 0.8853\n",
      "Epoch 92/100\n",
      "750/750 [==============================] - 0s 47us/sample - loss: 0.2873 - acc: 0.8853\n",
      "Epoch 93/100\n",
      "750/750 [==============================] - 0s 53us/sample - loss: 0.2867 - acc: 0.8853\n",
      "Epoch 94/100\n",
      "750/750 [==============================] - 0s 43us/sample - loss: 0.2861 - acc: 0.8853\n",
      "Epoch 95/100\n",
      "750/750 [==============================] - 0s 45us/sample - loss: 0.2858 - acc: 0.8867\n",
      "Epoch 96/100\n",
      "750/750 [==============================] - 0s 44us/sample - loss: 0.2851 - acc: 0.8867\n",
      "Epoch 97/100\n",
      "750/750 [==============================] - 0s 40us/sample - loss: 0.2845 - acc: 0.8853\n",
      "Epoch 98/100\n",
      "750/750 [==============================] - 0s 35us/sample - loss: 0.2840 - acc: 0.8867\n",
      "Epoch 99/100\n",
      "750/750 [==============================] - 0s 33us/sample - loss: 0.2834 - acc: 0.8880\n",
      "Epoch 100/100\n",
      "750/750 [==============================] - 0s 31us/sample - loss: 0.2829 - acc: 0.8880\n"
     ]
    }
   ],
   "source": [
    "# Now that our new Sequential model is defined, we need to compile and \n",
    "# train the model using our nonlinear moon-shaped dummy data. For us to \n",
    "# make direct comparisons with our single-neuron model, we’ll use the \n",
    "# same training parameters, including loss metric, optimizer function, \n",
    "# and number of epochs.\n",
    "\n",
    "# Compile the Sequential model together and customize metrics\n",
    "new_model.compile(loss=\"binary_crossentropy\", optimizer=\"adam\", metrics=[\"accuracy\"])\n",
    "\n",
    "# Fit the model to the training data\n",
    "new_fit_model = new_model.fit(X_moon_train_scaled, y_moon_train, epochs=100, shuffle=True)"
   ]
  },
  {
   "cell_type": "markdown",
   "metadata": {},
   "source": [
    "# Optimizing a Neural Network\n",
    "\n",
    "There are a few means of optimizing a neural network:\n",
    "\n",
    "- Check out your input dataset.\n",
    "- Add more neurons to a hidden layer. (Deep Learning)\n",
    "- Add additional hidden layers.\n",
    "- Use a different activation function for the hidden layers.\n",
    "    1. The **sigmoid function** values are normalized to a probability between 0 and 1, which is ideal for binary classification.\n",
    "    2. The **tanh function** can be used for classification or regression, and it expands the range between -1 and 1.\n",
    "    3. The **ReLU function** is ideal for looking at positive nonlinear input data for classification or regression.\n",
    "    4. The **Leaky ReLU function** is a good alternative for nonlinear input data with many negative inputs.\n",
    "- Add additional epochs to the training regimen."
   ]
  },
  {
   "cell_type": "code",
   "execution_count": null,
   "metadata": {},
   "outputs": [],
   "source": []
  }
 ],
 "metadata": {
  "kernelspec": {
   "display_name": "mlenv",
   "language": "python",
   "name": "mlenv"
  },
  "language_info": {
   "codemirror_mode": {
    "name": "ipython",
    "version": 3
   },
   "file_extension": ".py",
   "mimetype": "text/x-python",
   "name": "python",
   "nbconvert_exporter": "python",
   "pygments_lexer": "ipython3",
   "version": "3.7.9"
  }
 },
 "nbformat": 4,
 "nbformat_minor": 4
}
